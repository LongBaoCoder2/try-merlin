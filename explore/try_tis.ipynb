{
 "cells": [
  {
   "cell_type": "markdown",
   "id": "4b27882f-3a52-4d95-a998-23d36ffb814f",
   "metadata": {},
   "source": [
    "## Retrieving Recommendations from Triton"
   ]
  },
  {
   "cell_type": "markdown",
   "id": "0a8610a4-c189-45f6-ac4f-9707c3292785",
   "metadata": {},
   "source": [
    "Once our models are successfully loaded to the TIS, we can now easily send a request to TIS and get a response for our query with send_triton_request utility function.\n",
    "\n",
    "Let’s send a request to TIS for a given user_id_raw value."
   ]
  },
  {
   "cell_type": "code",
   "execution_count": null,
   "id": "a704edc0-ffda-41c0-bce2-031f297f692a",
   "metadata": {},
   "outputs": [],
   "source": [
    "# read in data for request\n",
    "from merlin.core.dispatch import make_df\n",
    "import numpy as np\n",
    "\n",
    "# create a request to be sent to TIS\n",
    "request = make_df({\"user_id\": [7]})\n",
    "request[\"user_id\"] = request[\"user_id\"].astype(np.int32)\n",
    "print(request)"
   ]
  },
  {
   "cell_type": "code",
   "execution_count": null,
   "id": "d4214bba-48a1-47b0-a1ee-711da845f11f",
   "metadata": {},
   "outputs": [],
   "source": [
    "response = send_triton_request(request_schema, request, outputs)\n",
    "response"
   ]
  },
  {
   "cell_type": "code",
   "execution_count": null,
   "id": "f3025365-200c-4966-a5bc-3ac33a99123a",
   "metadata": {},
   "outputs": [],
   "source": []
  }
 ],
 "metadata": {
  "kernelspec": {
   "display_name": "Python 3 (ipykernel)",
   "language": "python",
   "name": "python3"
  },
  "language_info": {
   "codemirror_mode": {
    "name": "ipython",
    "version": 3
   },
   "file_extension": ".py",
   "mimetype": "text/x-python",
   "name": "python",
   "nbconvert_exporter": "python",
   "pygments_lexer": "ipython3",
   "version": "3.10.12"
  }
 },
 "nbformat": 4,
 "nbformat_minor": 5
}
